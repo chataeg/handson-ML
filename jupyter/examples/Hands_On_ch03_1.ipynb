{
  "nbformat": 4,
  "nbformat_minor": 0,
  "metadata": {
    "colab": {
      "provenance": [],
      "collapsed_sections": [],
      "authorship_tag": "ABX9TyOlYpvBD4/Ycx/fDgxaerH1",
      "include_colab_link": true
    },
    "kernelspec": {
      "name": "python3",
      "display_name": "Python 3"
    },
    "language_info": {
      "name": "python"
    }
  },
  "cells": [
    {
      "cell_type": "markdown",
      "metadata": {
        "id": "view-in-github",
        "colab_type": "text"
      },
      "source": [
        "<a href=\"https://colab.research.google.com/github/chataeg/handson-ML/blob/master/Hands_On_ch03_1.ipynb\" target=\"_parent\"><img src=\"https://colab.research.google.com/assets/colab-badge.svg\" alt=\"Open In Colab\"/></a>"
      ]
    },
    {
      "cell_type": "code",
      "execution_count": 1,
      "metadata": {
        "colab": {
          "base_uri": "https://localhost:8080/"
        },
        "id": "9atxxAeBzevU",
        "outputId": "1bdb4c82-abff-4f8a-cf20-8bc0628746c7"
      },
      "outputs": [
        {
          "output_type": "execute_result",
          "data": {
            "text/plain": [
              "dict_keys(['data', 'target', 'frame', 'categories', 'feature_names', 'target_names', 'DESCR', 'details', 'url'])"
            ]
          },
          "metadata": {},
          "execution_count": 1
        }
      ],
      "source": [
        "#사용할 데이터셋과 모델 임포트\n",
        "from sklearn.datasets import fetch_openml\n",
        "from sklearn.model_selection import GridSearchCV\n",
        "from sklearn.neighbors import KNeighborsClassifier\n",
        "\n",
        "#넘파이 임포트\n",
        "import numpy as np\n",
        "\n",
        "mnist = fetch_openml('mnist_784', version=1, as_frame=False) # as_frame = True 넘파이로 반환\n",
        "mnist.keys()"
      ]
    },
    {
      "cell_type": "code",
      "source": [
        "#데이터와 타겟 레이블을 추출\n",
        "X, y = mnist[\"data\"], mnist[\"target\"]\n",
        "#데이터 형태 확인\n",
        "X.shape"
      ],
      "metadata": {
        "colab": {
          "base_uri": "https://localhost:8080/"
        },
        "id": "3yRXpB_f11TZ",
        "outputId": "731ac40f-eb3d-4199-aaae-46731c561b6d"
      },
      "execution_count": 2,
      "outputs": [
        {
          "output_type": "execute_result",
          "data": {
            "text/plain": [
              "(70000, 784)"
            ]
          },
          "metadata": {},
          "execution_count": 2
        }
      ]
    },
    {
      "cell_type": "code",
      "source": [],
      "metadata": {
        "id": "uRKs7WEOBGaE"
      },
      "execution_count": null,
      "outputs": []
    },
    {
      "cell_type": "code",
      "source": [
        "# target 레이블 은 문자열이기 때문에 정수로 변환\n",
        "y = y.astype(np.uint8) \n",
        "# 59999번 인덱스를 기준으로 훈련 세트와 테스트 세트를 나눔\n",
        "X_train, X_test, y_train, y_test = X[:60000], X[60000:], y[:60000], y[60000:] "
      ],
      "metadata": {
        "id": "5hY_qHbLBL3y"
      },
      "execution_count": 3,
      "outputs": []
    },
    {
      "cell_type": "code",
      "source": [],
      "metadata": {
        "id": "cS1Qf9D0fDkM"
      },
      "execution_count": null,
      "outputs": []
    },
    {
      "cell_type": "code",
      "source": [
        "\n",
        "#weigths 에서 uniform : 가중치마다 같은 값을 부여, distance : 거리가 더 가까운 이웃의 영향을 더 많이 받도록 가중치 설정\n",
        "param_grid = [{'weights': [\"uniform\", \"distance\"], 'n_neighbors': [3, 4, 5]}]\n",
        "\n",
        "\n",
        "knn_clf = KNeighborsClassifier() \n",
        "\n",
        "grid_search = GridSearchCV(knn_clf, param_grid, cv=5, verbose=3)\n",
        "grid_search.fit(X_train, y_train)\n",
        "\n"
      ],
      "metadata": {
        "colab": {
          "base_uri": "https://localhost:8080/"
        },
        "id": "6AELab-G-IJa",
        "outputId": "7458b017-8d21-4d9a-c158-2b950197ec51"
      },
      "execution_count": null,
      "outputs": [
        {
          "output_type": "stream",
          "name": "stdout",
          "text": [
            "Fitting 5 folds for each of 6 candidates, totalling 30 fits\n",
            "[CV 1/5] END ....n_neighbors=3, weights=uniform;, score=0.972 total time=  40.6s\n",
            "[CV 2/5] END ....n_neighbors=3, weights=uniform;, score=0.971 total time=  37.9s\n",
            "[CV 3/5] END ....n_neighbors=3, weights=uniform;, score=0.969 total time=  40.4s\n",
            "[CV 4/5] END ....n_neighbors=3, weights=uniform;, score=0.969 total time=  35.5s\n",
            "[CV 5/5] END ....n_neighbors=3, weights=uniform;, score=0.970 total time=  35.0s\n",
            "[CV 1/5] END ...n_neighbors=3, weights=distance;, score=0.972 total time=  34.8s\n",
            "[CV 2/5] END ...n_neighbors=3, weights=distance;, score=0.972 total time=  36.5s\n",
            "[CV 3/5] END ...n_neighbors=3, weights=distance;, score=0.970 total time=  34.7s\n",
            "[CV 4/5] END ...n_neighbors=3, weights=distance;, score=0.970 total time=  34.7s\n",
            "[CV 5/5] END ...n_neighbors=3, weights=distance;, score=0.971 total time=  34.6s\n",
            "[CV 1/5] END ....n_neighbors=4, weights=uniform;, score=0.969 total time=  38.7s\n",
            "[CV 2/5] END ....n_neighbors=4, weights=uniform;, score=0.968 total time=  38.8s\n",
            "[CV 3/5] END ....n_neighbors=4, weights=uniform;, score=0.968 total time=  39.3s\n",
            "[CV 4/5] END ....n_neighbors=4, weights=uniform;, score=0.967 total time=  39.0s\n",
            "[CV 5/5] END ....n_neighbors=4, weights=uniform;, score=0.970 total time=  39.3s\n",
            "[CV 1/5] END ...n_neighbors=4, weights=distance;, score=0.973 total time=  38.4s\n",
            "[CV 2/5] END ...n_neighbors=4, weights=distance;, score=0.972 total time=  38.9s\n",
            "[CV 3/5] END ...n_neighbors=4, weights=distance;, score=0.970 total time=  38.2s\n",
            "[CV 4/5] END ...n_neighbors=4, weights=distance;, score=0.971 total time=  39.8s\n",
            "[CV 5/5] END ...n_neighbors=4, weights=distance;, score=0.972 total time=  39.0s\n",
            "[CV 1/5] END ....n_neighbors=5, weights=uniform;, score=0.970 total time=  38.7s\n",
            "[CV 2/5] END ....n_neighbors=5, weights=uniform;, score=0.970 total time=  41.8s\n",
            "[CV 3/5] END ....n_neighbors=5, weights=uniform;, score=0.969 total time=  39.8s\n",
            "[CV 4/5] END ....n_neighbors=5, weights=uniform;, score=0.968 total time=  40.1s\n",
            "[CV 5/5] END ....n_neighbors=5, weights=uniform;, score=0.969 total time=  39.2s\n",
            "[CV 1/5] END ...n_neighbors=5, weights=distance;, score=0.970 total time=  38.4s\n",
            "[CV 2/5] END ...n_neighbors=5, weights=distance;, score=0.971 total time=  38.3s\n",
            "[CV 3/5] END ...n_neighbors=5, weights=distance;, score=0.970 total time=  38.0s\n",
            "[CV 4/5] END ...n_neighbors=5, weights=distance;, score=0.969 total time=  38.5s\n",
            "[CV 5/5] END ...n_neighbors=5, weights=distance;, score=0.971 total time=  40.0s\n"
          ]
        },
        {
          "output_type": "execute_result",
          "data": {
            "text/plain": [
              "GridSearchCV(cv=5, estimator=KNeighborsClassifier(),\n",
              "             param_grid=[{'n_neighbors': [3, 4, 5],\n",
              "                          'weights': ['uniform', 'distance']}],\n",
              "             verbose=3)"
            ]
          },
          "metadata": {},
          "execution_count": 11
        }
      ]
    },
    {
      "cell_type": "code",
      "source": [
        "#최적의 파라미터 값 확인\n",
        "grid_search.best_params_\n",
        "\n",
        "#테스트 세트에서의 최고 성적은 대략 97% 의 정확도.\n",
        "grid_search.best_score_"
      ],
      "metadata": {
        "colab": {
          "base_uri": "https://localhost:8080/"
        },
        "id": "NuvgGJW9A7dU",
        "outputId": "d2c13359-b0e1-403e-ecc0-400c468160e4"
      },
      "execution_count": null,
      "outputs": [
        {
          "output_type": "execute_result",
          "data": {
            "text/plain": [
              "{'n_neighbors': 4, 'weights': 'distance'}"
            ]
          },
          "metadata": {},
          "execution_count": 13
        }
      ]
    },
    {
      "cell_type": "code",
      "source": [],
      "metadata": {
        "colab": {
          "base_uri": "https://localhost:8080/"
        },
        "id": "SIEIm-D2I1au",
        "outputId": "5d52ed04-a656-49fc-ca52-d1830ff8f4b8"
      },
      "execution_count": null,
      "outputs": [
        {
          "output_type": "execute_result",
          "data": {
            "text/plain": [
              "0.9716166666666666"
            ]
          },
          "metadata": {},
          "execution_count": 15
        }
      ]
    },
    {
      "cell_type": "code",
      "source": [
        "from sklearn.metrics import accuracy_score\n",
        "\n",
        "#테스트 세트로 훈련이 아닌 예측을 하자.\n",
        "y_pred = grid_search.predict(X_test)\n",
        "accuracy_score(y_test, y_pred)"
      ],
      "metadata": {
        "colab": {
          "base_uri": "https://localhost:8080/"
        },
        "id": "JZXOA4vfAkDn",
        "outputId": "be58f5d5-c4c7-4d42-c0a0-1d06f1312300"
      },
      "execution_count": null,
      "outputs": [
        {
          "output_type": "execute_result",
          "data": {
            "text/plain": [
              "0.9714"
            ]
          },
          "metadata": {},
          "execution_count": 16
        }
      ]
    },
    {
      "cell_type": "code",
      "source": [],
      "metadata": {
        "id": "T6fJtqRWL5ax"
      },
      "execution_count": null,
      "outputs": []
    }
  ]
}