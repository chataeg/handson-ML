{
 "cells": [
  {
   "cell_type": "code",
   "execution_count": 2,
   "id": "eb2abcd6",
   "metadata": {},
   "outputs": [
    {
     "data": {
      "text/plain": [
       "dict_keys(['data', 'target', 'frame', 'categories', 'feature_names', 'target_names', 'DESCR', 'details', 'url'])"
      ]
     },
     "execution_count": 2,
     "metadata": {},
     "output_type": "execute_result"
    }
   ],
   "source": [
    "#사용할 데이터셋과 모델 임포트\n",
    "from sklearn.datasets import fetch_openml\n",
    "from sklearn.model_selection import GridSearchCV\n",
    "from sklearn.neighbors import KNeighborsClassifier\n",
    "\n",
    "#넘파이 임포트\n",
    "import numpy as np\n",
    "\n",
    "\n",
    "mnist = fetch_openml('mnist_784', version=1, as_frame=False) # as_frame = True 넘파이로 반환\n",
    "mnist.keys()"
   ]
  },
  {
   "cell_type": "code",
   "execution_count": 3,
   "id": "187251b9",
   "metadata": {},
   "outputs": [
    {
     "name": "stderr",
     "output_type": "stream",
     "text": [
      "C:\\Users\\차태관\\AppData\\Local\\Temp\\ipykernel_10992\\635857321.py:2: DeprecationWarning: Please use `shift` from the `scipy.ndimage` namespace, the `scipy.ndimage.interpolation` namespace is deprecated.\n",
      "  from scipy.ndimage.interpolation import shift\n"
     ]
    }
   ],
   "source": [
    "#이미지를 동서남북 방향으로 shift 할 scipy 모듈 import \n",
    "from scipy.ndimage.interpolation import shift\n",
    "import matplotlib.pyplot as plt"
   ]
  },
  {
   "cell_type": "code",
   "execution_count": 4,
   "id": "b56ae90e",
   "metadata": {},
   "outputs": [
    {
     "data": {
      "text/plain": [
       "(70000, 784)"
      ]
     },
     "execution_count": 4,
     "metadata": {},
     "output_type": "execute_result"
    }
   ],
   "source": [
    "#데이터와 타겟 레이블을 추출\n",
    "X, y = mnist[\"data\"], mnist[\"target\"]\n",
    "#데이터 형태 확인\n",
    "X.shape"
   ]
  },
  {
   "cell_type": "code",
   "execution_count": 5,
   "id": "6414a1de",
   "metadata": {},
   "outputs": [],
   "source": [
    "# target 레이블 은 문자열이기 때문에 정수로 변환\n",
    "y = y.astype(np.uint8) \n",
    "# 59999번 인덱스를 기준으로 훈련 세트와 테스트 세트를 나눔\n",
    "X_train, X_test, y_train, y_test = X[:60000], X[60000:], y[:60000], y[60000:] "
   ]
  },
  {
   "cell_type": "code",
   "execution_count": 6,
   "id": "7ebc96fd",
   "metadata": {},
   "outputs": [],
   "source": [
    "#이미지를 reshape 해서 이미지를  dx, dy 만큼 변환한 뒤 원래 형태로 반환하는 함수\n",
    "def shift_image(image, dx, dy):\n",
    "  image = image.reshape((28,28))\n",
    "  shifted_image = shift(image, [dx, dy], cval = 0)\n",
    "  return shifted_image.reshape([-1])"
   ]
  },
  {
   "cell_type": "code",
   "execution_count": 7,
   "id": "6df16950",
   "metadata": {},
   "outputs": [
    {
     "data": {
      "image/png": "[encoded data removed]",
      "text/plain": [
       "<Figure size 1200x300 with 3 Axes>"
      ]
     },
     "metadata": {},
     "output_type": "display_data"
    }
   ],
   "source": [
    "#함수가 잘 작동 하는지 확인하기 위해 이미지를 변형 후 확인해본다. \n",
    "image = X_train[1000]\n",
    "shifted_image_right = shift_image(image, 0, 5)\n",
    "shifted_image_up = shift_image(image, -5, 0)\n",
    "\n",
    "plt.figure(figsize=(12,3))\n",
    "plt.subplot(131)\n",
    "plt.title(\"Original\", fontsize=14)\n",
    "plt.imshow(image.reshape(28, 28), interpolation=\"nearest\", cmap=\"Greys\")\n",
    "\n",
    "plt.subplot(132)\n",
    "plt.title(\"Shifted right\", fontsize=14)\n",
    "plt.imshow(shifted_image_right.reshape(28, 28), interpolation=\"nearest\", cmap=\"Greys\")\n",
    "\n",
    "plt.subplot(133)\n",
    "plt.title(\"Shifted up\", fontsize=14)\n",
    "plt.imshow(shifted_image_up.reshape(28, 28), interpolation=\"nearest\", cmap=\"Greys\")\n",
    "plt.show()"
   ]
  },
  {
   "cell_type": "code",
   "execution_count": 8,
   "id": "9183e2dd",
   "metadata": {},
   "outputs": [],
   "source": [
    "#테스트 세트를 새로운 expanded 변수에 복사\n",
    "X_train_expanded = [image for image in X_train]\n",
    "y_train_expanded = [label for label in y_train]"
   ]
  },
  {
   "cell_type": "code",
   "execution_count": null,
   "id": "326fa529",
   "metadata": {},
   "outputs": [],
   "source": [
    "# for문 사용하여 이미지들을 이동 후 expanded 에 덧붙여준다. 타겟은 변형할 필요 X \n",
    "for dx, dy in ((0,1), (0,-1), (-1,0), (1,0)):\n",
    "  for image, label in zip(X_train, y_train):\n",
    "    X_train_expanded.append(shift_image(image, dx, dy))\n",
    "    y_train_expanded.append(label)\n"
   ]
  },
  {
   "cell_type": "code",
   "execution_count": null,
   "id": "b29a59ff",
   "metadata": {},
   "outputs": [],
   "source": [
    "X_train_expanded = np.array(X_train_expanded)\n",
    "y_train_expanded = np.array(y_train_expanded)"
   ]
  },
  {
   "cell_type": "code",
   "execution_count": null,
   "id": "8cf4dcad",
   "metadata": {},
   "outputs": [],
   "source": [
    "param_grid = [{'weights': [\"uniform\", \"distance\"], 'n_neighbors': [3, 4, 5]}]\n",
    "knn_clf = KNeighborsClassifier() \n",
    "grid_search = GridSearchCV(knn_clf, param_grid, cv=5, verbose=3)\n",
    "grid_search.fit(X_train_expanded, y_train_expanded)"
   ]
  },
  {
   "cell_type": "code",
   "execution_count": null,
   "id": "6e463dc4",
   "metadata": {},
   "outputs": [],
   "source": [
    "#최적의 파라미터 값 확인\n",
    "grid_search.best_params_\n",
    "\n",
    "#테스트 세트에서의 최고 성적은 대략 97% 의 정확도.\n",
    "grid_search.best_score_"
   ]
  },
  {
   "cell_type": "code",
   "execution_count": null,
   "id": "d38aa960",
   "metadata": {},
   "outputs": [],
   "source": [
    "from sklearn.metrics import accuracy_score\n",
    "y_pred = grid_search.predict(X_test)\n",
    "accuracy_score(y_test, y_pred)"
   ]
  }
 ],
 "metadata": {
  "kernelspec": {
   "display_name": "cuda",
   "language": "python",
   "name": "cuda"
  },
  "language_info": {
   "codemirror_mode": {
    "name": "ipython",
    "version": 3
   },
   "file_extension": ".py",
   "mimetype": "text/x-python",
   "name": "python",
   "nbconvert_exporter": "python",
   "pygments_lexer": "ipython3",
   "version": "3.9.0"
  }
 },
 "nbformat": 4,
 "nbformat_minor": 5
}
